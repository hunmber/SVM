{
 "cells": [
  {
   "cell_type": "code",
   "execution_count": 1,
   "id": "530b414c",
   "metadata": {},
   "outputs": [
    {
     "data": {
      "image/png": "[encoded data removed]",
      "text/plain": [
       "<Figure size 432x288 with 1 Axes>"
      ]
     },
     "metadata": {
      "needs_background": "light"
     },
     "output_type": "display_data"
    }
   ],
   "source": [
    "import numpy as np\n",
    "import matplotlib.pyplot as plt\n",
    "from sklearn import datasets\n",
    "from sklearn.preprocessing import PolynomialFeatures,StandardScaler\n",
    "from sklearn.svm import LinearSVC\n",
    "from sklearn.pipeline import Pipeline\n",
    "from sklearn.svm import SVC\n",
    "#非线性SVM分类,当degree为0表示线性\n",
    "def PolynomialSVC(degree,C=1.0):\n",
    "    return Pipeline([\n",
    "        (\"poly\",PolynomialFeatures(degree=degree)),#生成多项式\n",
    "        (\"std_scaler\",StandardScaler()),#标准化\n",
    "        (\"linearSVC\",LinearSVC(C=C))#最后生成svm\n",
    "    ])\n",
    "\n",
    "#绘制决策边界\n",
    "def plot_decision_boundary(model, axis):\n",
    "    x0, x1 = np.meshgrid(\n",
    "        np.linspace(axis[0], axis[1], int((axis[1]-axis[0])*100)).reshape(-1,1),\n",
    "        np.linspace(axis[2], axis[3], int((axis[3]-axis[2])*100)).reshape(-1,1)\n",
    "    )\n",
    "    X_new = np.c_[x0.ravel(), x1.ravel()]\n",
    "    y_predict = model.predict(X_new)\n",
    "    zz = y_predict.reshape(x0.shape) \n",
    "    from matplotlib.colors import ListedColormap\n",
    "    custom_cmap = ListedColormap(['#EF9A9A','#FFF59D','#90CAF9'])\n",
    "    plt.contourf(x0, x1, zz, cmap=custom_cmap)\n",
    "\n",
    "#核函数\n",
    "def PolynomialKernelSVC(degree,C=1.0):\n",
    "    return Pipeline([\n",
    "        (\"std_scaler\",StandardScaler()),\n",
    "        (\"kernelSVC\",SVC(kernel=\"poly\")) # poly代表多项式特征\n",
    "    ])\n",
    "\n",
    "#高斯核函数\n",
    "def RBFKernelSVC(gamma=1.0):\n",
    "    return Pipeline([\n",
    "        ('std_scaler',StandardScaler()),\n",
    "        ('svc',SVC(kernel='rbf',gamma=gamma))\n",
    "    ])\n",
    "\n",
    "iris = datasets.load_iris()\n",
    "\n",
    "x_iris = iris.data\n",
    "y_iris = iris.target\n",
    "\n",
    "x_iris = x_iris [y_iris<2,:2] #只取y<2的类别，也就是0 1 并且只取前两个特征\n",
    "y_iris = y_iris[y_iris<2] # 只取y<2的类别\n",
    "\n",
    "# 分别画出类别0和1的点\n",
    "plt.scatter(x_iris[y_iris==0,0],x_iris[y_iris==0,1]) \n",
    "plt.scatter(x_iris[y_iris==1,0],x_iris[y_iris==1,1])\n",
    "plt.show()\n"
   ]
  },
  {
   "cell_type": "code",
   "execution_count": 2,
   "id": "3a9c28cb",
   "metadata": {},
   "outputs": [
    {
     "name": "stderr",
     "output_type": "stream",
     "text": [
      "D:\\Jupyter\\anzhaung\\lib\\site-packages\\sklearn\\svm\\_base.py:985: ConvergenceWarning: Liblinear failed to converge, increase the number of iterations.\n",
      "  warnings.warn(\"Liblinear failed to converge, increase \"\n"
     ]
    },
    {
     "name": "stdout",
     "output_type": "stream",
     "text": [
      "权重w: [ 0.          1.20808004 -0.3468523   0.92515359  0.24568137 -0.42665648\n",
      "  0.67757486  0.36389163 -0.22308931 -0.47114486  0.46594778  0.2837059\n",
      " -0.11283354 -0.3892646  -0.48649062  0.289239    0.16821255 -0.09052884\n",
      " -0.34011833 -0.44939016 -0.48001051]\n",
      "截距b: 0.6436918922005567\n"
     ]
    },
    {
     "data": {
      "image/png": "[encoded data removed]",
      "text/plain": [
       "<Figure size 432x288 with 1 Axes>"
      ]
     },
     "metadata": {
      "needs_background": "light"
     },
     "output_type": "display_data"
    }
   ],
   "source": [
    "#多项式\n",
    "poly_svc_iris = PolynomialSVC(degree=5,C=10)\n",
    "#拟合\n",
    "poly_svc_iris.fit(x_iris,y_iris)\n",
    "#打印权重和截距\n",
    "print(\"权重w:\",poly_svc_iris.named_steps['linearSVC'].coef_[0])\n",
    "print(\"截距b:\",poly_svc_iris.named_steps['linearSVC'].intercept_[0])\n",
    "# 绘制决策边界\n",
    "plot_decision_boundary(poly_svc_iris,axis=[4,7.5,1,4.5]) # x,y轴都在-3到3之间\n",
    "# 绘制原始数据\n",
    "plt.scatter(x_iris[y_iris==0,0],x_iris[y_iris==0,1]) \n",
    "plt.scatter(x_iris[y_iris==1,0],x_iris[y_iris==1,1])\n",
    "plt.show()\n"
   ]
  },
  {
   "cell_type": "code",
   "execution_count": 3,
   "id": "da381912",
   "metadata": {},
   "outputs": [
    {
     "name": "stdout",
     "output_type": "stream",
     "text": [
      "系数w: [[-0.76759127 -0.47423075 -0.2011925  -0.77968419 -0.31804531 -0.50982507\n",
      "  -1.         -0.80508958 -0.35824411 -0.74252356 -1.          0.61031154\n",
      "   1.          0.79408519  0.70381878  0.74512265  0.18015706  0.07385213\n",
      "   0.47768741  1.          1.          0.37139158]]\n",
      "截距b: [0.0900694]\n"
     ]
    },
    {
     "data": {
      "image/png": "[encoded data removed]",
      "text/plain": [
       "<Figure size 432x288 with 1 Axes>"
      ]
     },
     "metadata": {
      "needs_background": "light"
     },
     "output_type": "display_data"
    }
   ],
   "source": [
    "#高斯核处理 参数为1\n",
    "rbf_svc_iris = RBFKernelSVC(1)\n",
    "#拟合\n",
    "rbf_svc_iris.fit(x_iris,y_iris)\n",
    "#打印对偶系数以及截距\n",
    "print(\"系数w:\",rbf_svc_iris.named_steps['svc'].dual_coef_)\n",
    "print(\"截距b:\",rbf_svc_iris.named_steps['svc'].intercept_)\n",
    "# 绘制决策边界\n",
    "plot_decision_boundary(rbf_svc_iris,axis=[4,7.5,1,4.5])\n",
    "# 绘制原始数据\n",
    "plt.scatter(x_iris[y_iris==0,0],x_iris[y_iris==0,1]) \n",
    "plt.scatter(x_iris[y_iris==1,0],x_iris[y_iris==1,1])\n",
    "plt.show()\n"
   ]
  },
  {
   "cell_type": "code",
   "execution_count": null,
   "id": "ef7edcf4",
   "metadata": {},
   "outputs": [],
   "source": []
  }
 ],
 "metadata": {
  "kernelspec": {
   "display_name": "Python 3",
   "language": "python",
   "name": "python3"
  },
  "language_info": {
   "codemirror_mode": {
    "name": "ipython",
    "version": 3
   },
   "file_extension": ".py",
   "mimetype": "text/x-python",
   "name": "python",
   "nbconvert_exporter": "python",
   "pygments_lexer": "ipython3",
   "version": "3.8.8"
  }
 },
 "nbformat": 4,
 "nbformat_minor": 5
}
